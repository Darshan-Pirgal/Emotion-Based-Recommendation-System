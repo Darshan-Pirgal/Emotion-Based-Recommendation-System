{
 "cells": [
  {
   "cell_type": "markdown",
   "metadata": {},
   "source": [
    "# Importing Packages"
   ]
  },
  {
   "cell_type": "code",
   "execution_count": 1,
   "metadata": {},
   "outputs": [],
   "source": [
    "import numpy as np\n",
    "import argparse\n",
    "import matplotlib.pyplot as plt\n",
    "import cv2"
   ]
  },
  {
   "cell_type": "code",
   "execution_count": 2,
   "metadata": {},
   "outputs": [],
   "source": [
    "from tensorflow.keras.models import Sequential\n",
    "from tensorflow.keras.layers import Dense, Dropout, Flatten\n",
    "from tensorflow.keras.layers import Conv2D\n",
    "from tensorflow.keras.optimizers import Adam\n",
    "from tensorflow.keras.layers import MaxPooling2D\n",
    "from tensorflow.keras.preprocessing.image import ImageDataGenerator\n",
    "import os\n",
    "os.environ['TF_CPP_MIN_LOG_LEVEL'] = '2'"
   ]
  },
  {
   "cell_type": "markdown",
   "metadata": {},
   "source": [
    "# Splitting into Test and Train"
   ]
  },
  {
   "cell_type": "code",
   "execution_count": 3,
   "metadata": {},
   "outputs": [
    {
     "name": "stdout",
     "output_type": "stream",
     "text": [
      "Found 28709 images belonging to 7 classes.\n",
      "Found 7178 images belonging to 7 classes.\n"
     ]
    }
   ],
   "source": [
    "train_dir = 'data/train'\n",
    "val_dir = 'data/test'\n",
    "\n",
    "num_train = 28709\n",
    "num_val = 7178\n",
    "batch_size = 64\n",
    "num_epoch = 50\n",
    "\n",
    "train_datagen = ImageDataGenerator(rescale=1./255)\n",
    "val_datagen = ImageDataGenerator(rescale=1./255)\n",
    "\n",
    "train_generator = train_datagen.flow_from_directory(\n",
    "        train_dir,\n",
    "        target_size=(48,48),\n",
    "        batch_size=batch_size,\n",
    "        color_mode=\"grayscale\",\n",
    "        class_mode='categorical')\n",
    "\n",
    "validation_generator = val_datagen.flow_from_directory(\n",
    "        val_dir,\n",
    "        target_size=(48,48),\n",
    "        batch_size=batch_size,\n",
    "        color_mode=\"grayscale\",\n",
    "        class_mode='categorical')\n"
   ]
  },
  {
   "cell_type": "markdown",
   "metadata": {},
   "source": [
    "# Model"
   ]
  },
  {
   "cell_type": "code",
   "execution_count": 4,
   "metadata": {},
   "outputs": [],
   "source": [
    "model = Sequential()\n",
    "\n",
    "model.add(Conv2D(32, kernel_size=(3, 3), activation='relu', input_shape=(48,48,1)))\n",
    "model.add(Conv2D(64, kernel_size=(3, 3), activation='relu'))\n",
    "model.add(MaxPooling2D(pool_size=(2, 2)))\n",
    "model.add(Dropout(0.25))\n",
    "\n",
    "model.add(Conv2D(128, kernel_size=(3, 3), activation='relu'))\n",
    "model.add(MaxPooling2D(pool_size=(2, 2)))\n",
    "model.add(Conv2D(128, kernel_size=(3, 3), activation='relu'))\n",
    "model.add(MaxPooling2D(pool_size=(2, 2)))\n",
    "model.add(Dropout(0.25))\n",
    "\n",
    "model.add(Flatten())\n",
    "model.add(Dense(1024, activation='relu'))\n",
    "model.add(Dropout(0.5))\n",
    "model.add(Dense(7, activation='softmax'))"
   ]
  },
  {
   "cell_type": "code",
   "execution_count": 6,
   "metadata": {},
   "outputs": [
    {
     "name": "stderr",
     "output_type": "stream",
     "text": [
      "C:\\Users\\rajul\\anaconda3\\envs\\tensorflow\\lib\\site-packages\\tensorflow\\python\\keras\\optimizer_v2\\optimizer_v2.py:374: UserWarning: The `lr` argument is deprecated, use `learning_rate` instead.\n",
      "  warnings.warn(\n",
      "C:\\Users\\rajul\\anaconda3\\envs\\tensorflow\\lib\\site-packages\\tensorflow\\python\\keras\\engine\\training.py:1969: UserWarning: `Model.fit_generator` is deprecated and will be removed in a future version. Please use `Model.fit`, which supports generators.\n",
      "  warnings.warn('`Model.fit_generator` is deprecated and '\n"
     ]
    },
    {
     "name": "stdout",
     "output_type": "stream",
     "text": [
      "Epoch 1/50\n",
      "448/448 [==============================] - 968s 2s/step - loss: 1.7970 - accuracy: 0.2615 - val_loss: 1.6941 - val_accuracy: 0.3451\n",
      "Epoch 2/50\n",
      "448/448 [==============================] - 819s 2s/step - loss: 1.6218 - accuracy: 0.3691 - val_loss: 1.5225 - val_accuracy: 0.4188\n",
      "Epoch 3/50\n",
      "448/448 [==============================] - 814s 2s/step - loss: 1.5186 - accuracy: 0.4135 - val_loss: 1.4482 - val_accuracy: 0.4473\n",
      "Epoch 4/50\n",
      "448/448 [==============================] - 813s 2s/step - loss: 1.4464 - accuracy: 0.4480 - val_loss: 1.3905 - val_accuracy: 0.4727\n",
      "Epoch 5/50\n",
      "448/448 [==============================] - 811s 2s/step - loss: 1.3851 - accuracy: 0.4719 - val_loss: 1.3448 - val_accuracy: 0.4891\n",
      "Epoch 6/50\n",
      "448/448 [==============================] - 807s 2s/step - loss: 1.3329 - accuracy: 0.4932 - val_loss: 1.2931 - val_accuracy: 0.5131\n",
      "Epoch 7/50\n",
      "448/448 [==============================] - 800s 2s/step - loss: 1.2918 - accuracy: 0.5084 - val_loss: 1.2732 - val_accuracy: 0.5167\n",
      "Epoch 8/50\n",
      "448/448 [==============================] - 802s 2s/step - loss: 1.2526 - accuracy: 0.5285 - val_loss: 1.2390 - val_accuracy: 0.5265\n",
      "Epoch 9/50\n",
      "448/448 [==============================] - 890s 2s/step - loss: 1.2163 - accuracy: 0.5401 - val_loss: 1.2239 - val_accuracy: 0.5402\n",
      "Epoch 10/50\n",
      "448/448 [==============================] - 1054s 2s/step - loss: 1.1854 - accuracy: 0.5577 - val_loss: 1.2007 - val_accuracy: 0.5427\n",
      "Epoch 11/50\n",
      "448/448 [==============================] - 1104s 2s/step - loss: 1.1621 - accuracy: 0.5644 - val_loss: 1.1950 - val_accuracy: 0.5459\n",
      "Epoch 12/50\n",
      "448/448 [==============================] - 1030s 2s/step - loss: 1.1341 - accuracy: 0.5767 - val_loss: 1.1668 - val_accuracy: 0.5572\n",
      "Epoch 13/50\n",
      "448/448 [==============================] - 979s 2s/step - loss: 1.1070 - accuracy: 0.5875 - val_loss: 1.1498 - val_accuracy: 0.5626\n",
      "Epoch 14/50\n",
      "448/448 [==============================] - 844s 2s/step - loss: 1.0809 - accuracy: 0.5968 - val_loss: 1.1382 - val_accuracy: 0.5681\n",
      "Epoch 15/50\n",
      "448/448 [==============================] - 857s 2s/step - loss: 1.0561 - accuracy: 0.6065 - val_loss: 1.1348 - val_accuracy: 0.5721\n",
      "Epoch 16/50\n",
      "448/448 [==============================] - 923s 2s/step - loss: 1.0334 - accuracy: 0.6151 - val_loss: 1.1230 - val_accuracy: 0.5822\n",
      "Epoch 17/50\n",
      "448/448 [==============================] - 959s 2s/step - loss: 1.0093 - accuracy: 0.6238 - val_loss: 1.1095 - val_accuracy: 0.5809\n",
      "Epoch 18/50\n",
      "448/448 [==============================] - 930s 2s/step - loss: 0.9904 - accuracy: 0.6341 - val_loss: 1.1107 - val_accuracy: 0.5831\n",
      "Epoch 19/50\n",
      "448/448 [==============================] - 945s 2s/step - loss: 0.9618 - accuracy: 0.6455 - val_loss: 1.0989 - val_accuracy: 0.5925\n",
      "Epoch 20/50\n",
      "448/448 [==============================] - 890s 2s/step - loss: 0.9387 - accuracy: 0.6536 - val_loss: 1.0929 - val_accuracy: 0.5918\n",
      "Epoch 21/50\n",
      "448/448 [==============================] - 912s 2s/step - loss: 0.9200 - accuracy: 0.6618 - val_loss: 1.0900 - val_accuracy: 0.5950\n",
      "Epoch 22/50\n",
      "448/448 [==============================] - 1045s 2s/step - loss: 0.8923 - accuracy: 0.6704 - val_loss: 1.0898 - val_accuracy: 0.5981\n",
      "Epoch 23/50\n",
      "448/448 [==============================] - 856s 2s/step - loss: 0.8678 - accuracy: 0.6787 - val_loss: 1.0849 - val_accuracy: 0.6059\n",
      "Epoch 24/50\n",
      "448/448 [==============================] - 812s 2s/step - loss: 0.8504 - accuracy: 0.6846 - val_loss: 1.0888 - val_accuracy: 0.6084\n",
      "Epoch 25/50\n",
      "448/448 [==============================] - 812s 2s/step - loss: 0.8181 - accuracy: 0.6996 - val_loss: 1.0939 - val_accuracy: 0.6059\n",
      "Epoch 26/50\n",
      "448/448 [==============================] - 825s 2s/step - loss: 0.8021 - accuracy: 0.7031 - val_loss: 1.0872 - val_accuracy: 0.6106\n",
      "Epoch 27/50\n",
      "448/448 [==============================] - 860s 2s/step - loss: 0.7728 - accuracy: 0.7193 - val_loss: 1.0806 - val_accuracy: 0.6150\n",
      "Epoch 28/50\n",
      "448/448 [==============================] - 952s 2s/step - loss: 0.7517 - accuracy: 0.7226 - val_loss: 1.0962 - val_accuracy: 0.6150\n",
      "Epoch 29/50\n",
      "448/448 [==============================] - 1031s 2s/step - loss: 0.7308 - accuracy: 0.7332 - val_loss: 1.0810 - val_accuracy: 0.6136\n",
      "Epoch 30/50\n",
      "448/448 [==============================] - 950s 2s/step - loss: 0.7119 - accuracy: 0.7415 - val_loss: 1.0806 - val_accuracy: 0.6176\n",
      "Epoch 31/50\n",
      "448/448 [==============================] - 981s 2s/step - loss: 0.6894 - accuracy: 0.7482 - val_loss: 1.0875 - val_accuracy: 0.6155\n",
      "Epoch 32/50\n",
      "448/448 [==============================] - 942s 2s/step - loss: 0.6652 - accuracy: 0.7582 - val_loss: 1.1111 - val_accuracy: 0.6131\n",
      "Epoch 33/50\n",
      "448/448 [==============================] - 881s 2s/step - loss: 0.6455 - accuracy: 0.7655 - val_loss: 1.0930 - val_accuracy: 0.6182\n",
      "Epoch 34/50\n",
      "448/448 [==============================] - 984s 2s/step - loss: 0.6250 - accuracy: 0.7726 - val_loss: 1.1169 - val_accuracy: 0.6145\n",
      "Epoch 35/50\n",
      "448/448 [==============================] - 1007s 2s/step - loss: 0.5995 - accuracy: 0.7823 - val_loss: 1.1161 - val_accuracy: 0.6144\n",
      "Epoch 36/50\n",
      "448/448 [==============================] - 893s 2s/step - loss: 0.5838 - accuracy: 0.7875 - val_loss: 1.1237 - val_accuracy: 0.6217\n",
      "Epoch 37/50\n",
      "448/448 [==============================] - 965s 2s/step - loss: 0.5661 - accuracy: 0.7969 - val_loss: 1.1171 - val_accuracy: 0.6207\n",
      "Epoch 38/50\n",
      "448/448 [==============================] - 870s 2s/step - loss: 0.5450 - accuracy: 0.8027 - val_loss: 1.1274 - val_accuracy: 0.6200\n",
      "Epoch 39/50\n",
      "448/448 [==============================] - 828s 2s/step - loss: 0.5238 - accuracy: 0.8089 - val_loss: 1.1352 - val_accuracy: 0.6221\n",
      "Epoch 40/50\n",
      "448/448 [==============================] - 836s 2s/step - loss: 0.5138 - accuracy: 0.8132 - val_loss: 1.1395 - val_accuracy: 0.6229\n",
      "Epoch 41/50\n",
      "448/448 [==============================] - 865s 2s/step - loss: 0.4914 - accuracy: 0.8215 - val_loss: 1.1455 - val_accuracy: 0.6211\n",
      "Epoch 42/50\n",
      "448/448 [==============================] - 820s 2s/step - loss: 0.4759 - accuracy: 0.8275 - val_loss: 1.1745 - val_accuracy: 0.6180\n",
      "Epoch 43/50\n",
      "448/448 [==============================] - 824s 2s/step - loss: 0.4577 - accuracy: 0.8335 - val_loss: 1.1569 - val_accuracy: 0.6267\n",
      "Epoch 44/50\n",
      "448/448 [==============================] - 829s 2s/step - loss: 0.4383 - accuracy: 0.8420 - val_loss: 1.1850 - val_accuracy: 0.6211\n",
      "Epoch 45/50\n",
      "448/448 [==============================] - 38351s 86s/step - loss: 0.4335 - accuracy: 0.8432 - val_loss: 1.1683 - val_accuracy: 0.6249\n",
      "Epoch 46/50\n",
      "448/448 [==============================] - 1250s 3s/step - loss: 0.4118 - accuracy: 0.8523 - val_loss: 1.2144 - val_accuracy: 0.6260\n",
      "Epoch 47/50\n",
      "448/448 [==============================] - 1235s 3s/step - loss: 0.3981 - accuracy: 0.8573 - val_loss: 1.2002 - val_accuracy: 0.6275\n",
      "Epoch 48/50\n",
      "448/448 [==============================] - 1195s 3s/step - loss: 0.3897 - accuracy: 0.8619 - val_loss: 1.2029 - val_accuracy: 0.6254\n",
      "Epoch 49/50\n",
      "448/448 [==============================] - 1204s 3s/step - loss: 0.3797 - accuracy: 0.8630 - val_loss: 1.2216 - val_accuracy: 0.6223\n",
      "Epoch 50/50\n",
      "448/448 [==============================] - 1100s 2s/step - loss: 0.3637 - accuracy: 0.8687 - val_loss: 1.2267 - val_accuracy: 0.6278\n"
     ]
    }
   ],
   "source": [
    "model.compile(loss='categorical_crossentropy',optimizer=Adam(lr=0.0001, decay=1e-6),metrics=['accuracy'])\n",
    "model_info = model.fit_generator(\n",
    "        train_generator,\n",
    "        steps_per_epoch=num_train // batch_size,\n",
    "        epochs=num_epoch,\n",
    "        validation_data=validation_generator,\n",
    "        validation_steps=num_val // batch_size)\n",
    "model.save_weights('model.h5')"
   ]
  },
  {
   "cell_type": "code",
   "execution_count": 7,
   "metadata": {},
   "outputs": [
    {
     "name": "stdout",
     "output_type": "stream",
     "text": [
      "Model: \"sequential\"\n",
      "_________________________________________________________________\n",
      "Layer (type)                 Output Shape              Param #   \n",
      "=================================================================\n",
      "conv2d (Conv2D)              (None, 46, 46, 32)        320       \n",
      "_________________________________________________________________\n",
      "conv2d_1 (Conv2D)            (None, 44, 44, 64)        18496     \n",
      "_________________________________________________________________\n",
      "max_pooling2d (MaxPooling2D) (None, 22, 22, 64)        0         \n",
      "_________________________________________________________________\n",
      "dropout (Dropout)            (None, 22, 22, 64)        0         \n",
      "_________________________________________________________________\n",
      "conv2d_2 (Conv2D)            (None, 20, 20, 128)       73856     \n",
      "_________________________________________________________________\n",
      "max_pooling2d_1 (MaxPooling2 (None, 10, 10, 128)       0         \n",
      "_________________________________________________________________\n",
      "conv2d_3 (Conv2D)            (None, 8, 8, 128)         147584    \n",
      "_________________________________________________________________\n",
      "max_pooling2d_2 (MaxPooling2 (None, 4, 4, 128)         0         \n",
      "_________________________________________________________________\n",
      "dropout_1 (Dropout)          (None, 4, 4, 128)         0         \n",
      "_________________________________________________________________\n",
      "flatten (Flatten)            (None, 2048)              0         \n",
      "_________________________________________________________________\n",
      "dense (Dense)                (None, 1024)              2098176   \n",
      "_________________________________________________________________\n",
      "dropout_2 (Dropout)          (None, 1024)              0         \n",
      "_________________________________________________________________\n",
      "dense_1 (Dense)              (None, 7)                 7175      \n",
      "=================================================================\n",
      "Total params: 2,345,607\n",
      "Trainable params: 2,345,607\n",
      "Non-trainable params: 0\n",
      "_________________________________________________________________\n"
     ]
    }
   ],
   "source": [
    "model.summary()"
   ]
  },
  {
   "cell_type": "code",
   "execution_count": null,
   "metadata": {},
   "outputs": [],
   "source": [
    "plt.plot(model_info.history['acc'])\n",
    "plt.plot(model_info.history['val_acc'])\n",
    "plt.ylabel('Accuracy')\n",
    "plt.xlabel('Epoch')\n",
    "plt.legend(['Training accuracy', 'Validation accuracy'], loc='lower right')\n",
    "plt.show()"
   ]
  },
  {
   "cell_type": "code",
   "execution_count": null,
   "metadata": {},
   "outputs": [],
   "source": [
    "plt.plot(model_info.history['loss'])\n",
    "plt.plot(model_info.history['val_loss'])\n",
    "plt.ylabel('Loss')\n",
    "plt.xlabel('Epoch')\n",
    "plt.legend(['Training loss', 'Validation loss'], loc='upper right')\n",
    "plt.show()"
   ]
  }
 ],
 "metadata": {
  "kernelspec": {
   "display_name": "Python 3 (ipykernel)",
   "language": "python",
   "name": "python3"
  },
  "language_info": {
   "codemirror_mode": {
    "name": "ipython",
    "version": 3
   },
   "file_extension": ".py",
   "mimetype": "text/x-python",
   "name": "python",
   "nbconvert_exporter": "python",
   "pygments_lexer": "ipython3",
   "version": "3.9.7"
  }
 },
 "nbformat": 4,
 "nbformat_minor": 4
}
