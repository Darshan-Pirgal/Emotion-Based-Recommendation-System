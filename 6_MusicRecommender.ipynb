{
 "cells": [
  {
   "cell_type": "markdown",
   "id": "657b54d1",
   "metadata": {},
   "source": [
    "# Importing Packages"
   ]
  },
  {
   "cell_type": "code",
   "execution_count": 1,
   "id": "1168a078",
   "metadata": {},
   "outputs": [],
   "source": [
    "import cv2\n",
    "import pandas as pd\n",
    "import numpy as np"
   ]
  },
  {
   "cell_type": "code",
   "execution_count": 2,
   "id": "73faa425",
   "metadata": {},
   "outputs": [],
   "source": [
    "from tensorflow.keras.models import Sequential\n",
    "from tensorflow.keras.layers import Dense, Dropout, Flatten\n",
    "from tensorflow.keras.layers import Conv2D\n",
    "from tensorflow.keras.optimizers import Adam\n",
    "from tensorflow.keras.layers import MaxPooling2D\n",
    "from tensorflow.keras.preprocessing.image import ImageDataGenerator\n",
    "import os\n",
    "os.environ['TF_CPP_MIN_LOG_LEVEL'] = '2'"
   ]
  },
  {
   "cell_type": "markdown",
   "id": "4381be0b",
   "metadata": {},
   "source": [
    "# Creating Dataframe"
   ]
  },
  {
   "cell_type": "code",
   "execution_count": 3,
   "id": "cf6e639d",
   "metadata": {},
   "outputs": [],
   "source": [
    "spotify_df = pd.read_csv('datasets/kaggleMusicMoodFinal.csv')"
   ]
  },
  {
   "cell_type": "code",
   "execution_count": 4,
   "id": "2dc69d42",
   "metadata": {},
   "outputs": [],
   "source": [
    "model = Sequential()\n",
    "\n",
    "model.add(Conv2D(32, kernel_size=(3, 3), activation='relu', input_shape=(48,48,1)))\n",
    "model.add(Conv2D(64, kernel_size=(3, 3), activation='relu'))\n",
    "model.add(MaxPooling2D(pool_size=(2, 2)))\n",
    "model.add(Dropout(0.25))\n",
    "\n",
    "model.add(Conv2D(128, kernel_size=(3, 3), activation='relu'))\n",
    "model.add(MaxPooling2D(pool_size=(2, 2)))\n",
    "model.add(Conv2D(128, kernel_size=(3, 3), activation='relu'))\n",
    "model.add(MaxPooling2D(pool_size=(2, 2)))\n",
    "model.add(Dropout(0.25))\n",
    "\n",
    "model.add(Flatten())\n",
    "model.add(Dense(1024, activation='relu'))\n",
    "model.add(Dropout(0.5))\n",
    "model.add(Dense(7, activation='softmax'))"
   ]
  },
  {
   "cell_type": "markdown",
   "id": "ad5b5252",
   "metadata": {},
   "source": [
    "# Function that detects emotion in real time"
   ]
  },
  {
   "cell_type": "code",
   "execution_count": 100,
   "id": "65e94f2b",
   "metadata": {},
   "outputs": [],
   "source": [
    "def EmotionDetection():\n",
    "    emotion_labels={0: \"Angry\", 1: \"Disgusted\", 2: \"Fearful\", 3: \"Happy\", 4: \"Neutral\", 5: \"Sad\", 6: \"Surprised\"}\n",
    "    \n",
    "    detection_model_path = 'haarcascade_frontalface_default.xml'\n",
    "    emotion_model_path = 'model.h5'\n",
    "    frame_window = 10\n",
    "    emotion_offsets = (20, 40)\n",
    "\n",
    "    facecasc = cv2.CascadeClassifier('haarcascade_frontalface_default.xml')\n",
    "    emotion_classifier = model.load_weights(emotion_model_path)\n",
    "\n",
    "    emotion_window = []\n",
    "\n",
    "    video_capture = cv2.VideoCapture(0)\n",
    "    flag=1\n",
    "    while True:\n",
    "        ret, frame = video_capture.read()\n",
    "        if not ret:\n",
    "            exit(0)\n",
    "        gray = cv2.cvtColor(frame, cv2.COLOR_BGR2GRAY)\n",
    "        faces = facecasc.detectMultiScale(gray,scaleFactor=1.3, minNeighbors=5)\n",
    "        for (x, y, w, h) in faces:\n",
    "            cv2.rectangle(frame, (x, y-50), (x+w, y+h+10), (255, 0, 0), 2)\n",
    "            roi_gray = gray[y:y + h, x:x + w]\n",
    "            cropped_img = np.expand_dims(np.expand_dims(cv2.resize(roi_gray, (48, 48)), -1), 0)\n",
    "            prediction = model.predict(cropped_img)\n",
    "            maxindex = int(np.argmax(prediction))\n",
    "            if flag:\n",
    "                print(\"Mood detected is: \",emotion_labels[maxindex])\n",
    "                print(\"\\n\")\n",
    "                return(emotion_labels[maxindex])\n",
    "                flag=0\n",
    "            cv2.putText(frame, emotion_labels[maxindex], (x+20, y-60), cv2.FONT_HERSHEY_SIMPLEX, 1, (255, 255, 255), 2, cv2.LINE_AA)\n",
    "\n",
    "            cv2.imshow('Video', cv2.resize(frame,(900,600),interpolation = cv2.INTER_CUBIC))\n",
    "        if cv2.waitKey(1) & 0xFF == ord('q'):\n",
    "            break\n",
    "    video_capture.release()\n",
    "    cv2.destroyAllWindows()"
   ]
  },
  {
   "cell_type": "markdown",
   "id": "a4aa61c1",
   "metadata": {},
   "source": [
    "# Choosing dataset"
   ]
  },
  {
   "cell_type": "code",
   "execution_count": 13,
   "id": "b089e205",
   "metadata": {},
   "outputs": [],
   "source": [
    "p1_disgust=spotify_df[spotify_df['Mood'].isin(['Energetic', 'Happy', 'Calm'])]\n",
    "p2_angry=spotify_df[spotify_df['Mood'].isin(['Energetic', 'Calm'])]\n",
    "p3_fear=spotify_df[spotify_df['Mood'].isin(['Happy', 'Calm'])]\n",
    "p4_happy=spotify_df[spotify_df['Mood'].isin(['Sad', 'Happy', 'Calm'])]\n",
    "p5_sad=spotify_df[spotify_df['Mood'].isin(['Sad', 'Happy', 'Calm'])]\n",
    "p6_surprise=spotify_df[spotify_df['Mood'].isin(['Energetic', 'Happy', 'Sad'])]\n",
    "p7_neutral=spotify_df[spotify_df['Mood'].isin(['Energetic', 'Happy', 'Calm'])]"
   ]
  },
  {
   "cell_type": "markdown",
   "id": "f472e27e",
   "metadata": {},
   "source": [
    "# Get Playlist"
   ]
  },
  {
   "cell_type": "code",
   "execution_count": 14,
   "id": "6592db52",
   "metadata": {},
   "outputs": [],
   "source": [
    "def GeneratePlaylist(list_df):\n",
    "    s1 = list_df.sort_values(by=['year'], ascending=False)\n",
    "    s2 = s1.nlargest(30,['popularity'])\n",
    "    s3 = s2[[\"name\", \"artists\"]]\n",
    "    return s3"
   ]
  },
  {
   "cell_type": "code",
   "execution_count": 16,
   "id": "d9de3b90",
   "metadata": {},
   "outputs": [],
   "source": [
    "pdisgust=GetPlaylist(p1_disgust)\n",
    "pangry=GetPlaylist(p2_angry)\n",
    "pfear=GetPlaylist(p3_fear)\n",
    "phappy=GetPlaylist(p4_happy)\n",
    "psad=GetPlaylist(p5_sad)\n",
    "psurprise=GetPlaylist(p6_surprise)\n",
    "pneutral=GetPlaylist(p7_neutral)"
   ]
  },
  {
   "cell_type": "code",
   "execution_count": 18,
   "id": "008c1250",
   "metadata": {},
   "outputs": [],
   "source": [
    "def RecommendTop30(x):\n",
    "    if x == \"Disgust\":\n",
    "        playlist=pdisgust\n",
    "    elif x == \"Angry\":\n",
    "        playlist=pangry\n",
    "    elif x == \"Fear\":\n",
    "        playlist=pfear\n",
    "    elif x == \"Happy\":\n",
    "        playlist=phappy\n",
    "    elif x == \"Sad\":\n",
    "        playlist=psad\n",
    "    elif x == \"Surprise\":\n",
    "        playlist=psurprise\n",
    "    else:\n",
    "        playlist=pneutral\n",
    "    print(playlist.to_markdown(index=False))"
   ]
  },
  {
   "cell_type": "code",
   "execution_count": 101,
   "id": "03e37193",
   "metadata": {},
   "outputs": [
    {
     "name": "stdout",
     "output_type": "stream",
     "text": [
      "Mood detected is:  Angry\n",
      "\n",
      "\n",
      "| name                                                        | artists                                        |\n",
      "|:------------------------------------------------------------|:-----------------------------------------------|\n",
      "| What You Know Bout Love                                     | ['Pop Smoke']                                  |\n",
      "| Blinding Lights                                             | ['The Weeknd']                                 |\n",
      "| WAP (feat. Megan Thee Stallion)                             | ['Cardi B', 'Megan Thee Stallion']             |\n",
      "| Holy (feat. Chance The Rapper)                              | ['Justin Bieber', 'Chance the Rapper']         |\n",
      "| Watermelon Sugar                                            | ['Harry Styles']                               |\n",
      "| La Tóxica                                                   | ['Farruko']                                    |\n",
      "| Wonder                                                      | ['Shawn Mendes']                               |\n",
      "| UN DIA (ONE DAY) (Feat. Tainy)                              | ['J Balvin', 'Tainy', 'Dua Lipa', 'Bad Bunny'] |\n",
      "| POPSTAR (feat. Drake)                                       | ['DJ Khaled', 'Drake']                         |\n",
      "| Midnight Sky                                                | ['Miley Cyrus']                                |\n",
      "| Mood Swings (feat. Lil Tjay)                                | ['Pop Smoke', 'Lil Tjay']                      |\n",
      "| Come & Go (with Marshmello)                                 | ['Juice WRLD', 'Marshmello']                   |\n",
      "| Wishing Well                                                | ['Juice WRLD']                                 |\n",
      "| Life Goes On                                                | ['BTS']                                        |\n",
      "| Hawái - Remix                                               | ['Maluma', 'The Weeknd']                       |\n",
      "| Chica Ideal                                                 | ['Sebastian Yatra', 'Guaynaa']                 |\n",
      "| Hawái                                                       | ['Maluma']                                     |\n",
      "| Golden                                                      | ['Harry Styles']                               |\n",
      "| Lucid Dreams                                                | ['Juice WRLD']                                 |\n",
      "| ily (i love you baby) (feat. Emilee)                        | ['Surf Mesa', 'Emilee']                        |\n",
      "| bad guy                                                     | ['Billie Eilish']                              |\n",
      "| Tusa                                                        | ['KAROL G', 'Nicki Minaj']                     |\n",
      "| All I Want for Christmas Is You                             | ['Mariah Carey']                               |\n",
      "| The Woo (feat. 50 Cent & Roddy Ricch)                       | ['Pop Smoke', '50 Cent', 'Roddy Ricch']        |\n",
      "| Martin & Gina                                               | ['Polo G']                                     |\n",
      "| Agua (with J Balvin) - Music From \"Sponge On The Run\" Movie | ['Tainy', 'J Balvin']                          |\n",
      "| Kings & Queens                                              | ['Ava Max']                                    |\n",
      "| The Business                                                | ['Tiësto']                                     |\n",
      "| ROXANNE                                                     | ['Arizona Zervas']                             |\n",
      "| 7 rings                                                     | ['Ariana Grande']                              |\n"
     ]
    }
   ],
   "source": [
    "RecommendTop30(EmotionDetection())"
   ]
  },
  {
   "cell_type": "code",
   "execution_count": null,
   "id": "83dd5d25",
   "metadata": {},
   "outputs": [],
   "source": []
  }
 ],
 "metadata": {
  "kernelspec": {
   "display_name": "Python 3 (ipykernel)",
   "language": "python",
   "name": "python3"
  },
  "language_info": {
   "codemirror_mode": {
    "name": "ipython",
    "version": 3
   },
   "file_extension": ".py",
   "mimetype": "text/x-python",
   "name": "python",
   "nbconvert_exporter": "python",
   "pygments_lexer": "ipython3",
   "version": "3.9.7"
  }
 },
 "nbformat": 4,
 "nbformat_minor": 5
}
