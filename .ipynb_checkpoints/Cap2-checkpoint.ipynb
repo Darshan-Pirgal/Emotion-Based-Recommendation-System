{
 "cells": [
  {
   "cell_type": "code",
   "execution_count": 1,
   "metadata": {},
   "outputs": [],
   "source": [
    "import numpy as np\n",
    "import argparse\n",
    "import matplotlib.pyplot as plt\n",
    "import cv2"
   ]
  },
  {
   "cell_type": "code",
   "execution_count": null,
   "metadata": {},
   "outputs": [],
   "source": [
    "from tensorflow.keras.models import Sequential\n",
    "from tensorflow.keras.layers import Dense, Dropout, Flatten\n",
    "from tensorflow.keras.layers import Conv2D\n",
    "from tensorflow.keras.optimizers import Adam\n",
    "from tensorflow.keras.layers import MaxPooling2D\n",
    "from tensorflow.keras.preprocessing.image import ImageDataGenerator\n",
    "import os\n",
    "os.environ['TF_CPP_MIN_LOG_LEVEL'] = '2'"
   ]
  },
  {
   "cell_type": "code",
   "execution_count": null,
   "metadata": {},
   "outputs": [],
   "source": [
    "train_dir = 'capst/train'\n",
    "val_dir = 'capst/test'\n",
    "\n",
    "num_train = 28709\n",
    "num_val = 7178\n",
    "batch_size = 64\n",
    "num_epoch = 50\n",
    "\n",
    "train_datagen = ImageDataGenerator(rescale=1./255)\n",
    "val_datagen = ImageDataGenerator(rescale=1./255)\n",
    "\n",
    "train_generator = train_datagen.flow_from_directory(\n",
    "        train_dir,\n",
    "        target_size=(48,48),\n",
    "        batch_size=batch_size,\n",
    "        color_mode=\"grayscale\",\n",
    "        class_mode='categorical')\n",
    "\n",
    "validation_generator = val_datagen.flow_from_directory(\n",
    "        val_dir,\n",
    "        target_size=(48,48),\n",
    "        batch_size=batch_size,\n",
    "        color_mode=\"grayscale\",\n",
    "        class_mode='categorical')\n"
   ]
  },
  {
   "cell_type": "code",
   "execution_count": 4,
   "metadata": {},
   "outputs": [],
   "source": [
    "model = Sequential()\n",
    "\n",
    "model.add(Conv2D(32, kernel_size=(3, 3), activation='relu', input_shape=(48,48,1)))\n",
    "model.add(Conv2D(64, kernel_size=(3, 3), activation='relu'))\n",
    "model.add(MaxPooling2D(pool_size=(2, 2)))\n",
    "model.add(Dropout(0.25))\n",
    "\n",
    "model.add(Conv2D(128, kernel_size=(3, 3), activation='relu'))\n",
    "model.add(MaxPooling2D(pool_size=(2, 2)))\n",
    "model.add(Conv2D(128, kernel_size=(3, 3), activation='relu'))\n",
    "model.add(MaxPooling2D(pool_size=(2, 2)))\n",
    "model.add(Dropout(0.25))\n",
    "\n",
    "model.add(Flatten())\n",
    "model.add(Dense(1024, activation='relu'))\n",
    "model.add(Dropout(0.5))\n",
    "model.add(Dense(7, activation='softmax'))"
   ]
  },
  {
   "cell_type": "code",
   "execution_count": null,
   "metadata": {},
   "outputs": [
    {
     "name": "stdout",
     "output_type": "stream",
     "text": [
      "WARNING:tensorflow:From <ipython-input-5-de683b60e72e>:2: Model.fit_generator (from tensorflow.python.keras.engine.training) is deprecated and will be removed in a future version.\n",
      "Instructions for updating:\n",
      "Please use Model.fit, which supports generators.\n",
      "Epoch 1/50\n",
      "448/448 [==============================] - 917s 2s/step - loss: 1.7963 - accuracy: 0.2635 - val_loss: 1.7040 - val_accuracy: 0.3470\n",
      "Epoch 2/50\n",
      "448/448 [==============================] - 425s 949ms/step - loss: 1.6253 - accuracy: 0.3671 - val_loss: 1.5436 - val_accuracy: 0.4111\n",
      "Epoch 3/50\n",
      "448/448 [==============================] - 420s 937ms/step - loss: 1.5253 - accuracy: 0.4099 - val_loss: 1.4655 - val_accuracy: 0.4406\n",
      "Epoch 4/50\n",
      "448/448 [==============================] - 420s 938ms/step - loss: 1.4571 - accuracy: 0.4424 - val_loss: 1.4173 - val_accuracy: 0.4633\n",
      "Epoch 5/50\n",
      "448/448 [==============================] - 420s 938ms/step - loss: 1.3926 - accuracy: 0.4679 - val_loss: 1.3433 - val_accuracy: 0.4897\n",
      "Epoch 6/50\n",
      "448/448 [==============================] - 422s 942ms/step - loss: 1.3389 - accuracy: 0.4916 - val_loss: 1.3062 - val_accuracy: 0.5033\n",
      "Epoch 7/50\n",
      "448/448 [==============================] - 425s 948ms/step - loss: 1.2969 - accuracy: 0.5076 - val_loss: 1.2693 - val_accuracy: 0.5206\n",
      "Epoch 8/50\n",
      "448/448 [==============================] - 536s 1s/step - loss: 1.2585 - accuracy: 0.5242 - val_loss: 1.2459 - val_accuracy: 0.5259\n",
      "Epoch 9/50\n",
      "448/448 [==============================] - 421s 940ms/step - loss: 1.2202 - accuracy: 0.5402 - val_loss: 1.2128 - val_accuracy: 0.5385\n",
      "Epoch 10/50\n",
      "448/448 [==============================] - 423s 945ms/step - loss: 1.1904 - accuracy: 0.5543 - val_loss: 1.2018 - val_accuracy: 0.5437\n",
      "Epoch 11/50\n",
      "448/448 [==============================] - 422s 941ms/step - loss: 1.1569 - accuracy: 0.5661 - val_loss: 1.1731 - val_accuracy: 0.5582\n",
      "Epoch 12/50\n",
      "448/448 [==============================] - 421s 940ms/step - loss: 1.1319 - accuracy: 0.5753 - val_loss: 1.1630 - val_accuracy: 0.5590\n",
      "Epoch 13/50\n",
      "448/448 [==============================] - 421s 940ms/step - loss: 1.1038 - accuracy: 0.5857 - val_loss: 1.1501 - val_accuracy: 0.5674\n",
      "Epoch 14/50\n",
      "448/448 [==============================] - 421s 940ms/step - loss: 1.0786 - accuracy: 0.5975 - val_loss: 1.1375 - val_accuracy: 0.5730\n",
      "Epoch 15/50\n",
      "448/448 [==============================] - 421s 940ms/step - loss: 1.0522 - accuracy: 0.6087 - val_loss: 1.1274 - val_accuracy: 0.5774\n",
      "Epoch 16/50\n",
      "448/448 [==============================] - 439s 980ms/step - loss: 1.0267 - accuracy: 0.6184 - val_loss: 1.1187 - val_accuracy: 0.5840\n",
      "Epoch 17/50\n",
      "448/448 [==============================] - 450s 1s/step - loss: 1.0061 - accuracy: 0.6264 - val_loss: 1.1055 - val_accuracy: 0.5858\n",
      "Epoch 18/50\n",
      "448/448 [==============================] - 460s 1s/step - loss: 0.9813 - accuracy: 0.6378 - val_loss: 1.0999 - val_accuracy: 0.5924\n",
      "Epoch 19/50\n",
      "448/448 [==============================] - 481s 1s/step - loss: 0.9508 - accuracy: 0.6486 - val_loss: 1.0898 - val_accuracy: 0.5967\n",
      "Epoch 20/50\n",
      "324/448 [====================>.........] - ETA: 2:10 - loss: 0.9338 - accuracy: 0.6568"
     ]
    }
   ],
   "source": [
    "model.compile(loss='categorical_crossentropy',optimizer=Adam(lr=0.0001, decay=1e-6),metrics=['accuracy'])\n",
    "model_info = model.fit_generator(\n",
    "        train_generator,\n",
    "        steps_per_epoch=num_train // batch_size,\n",
    "        epochs=num_epoch,\n",
    "        validation_data=validation_generator,\n",
    "        validation_steps=num_val // batch_size)\n",
    "plot_model_history(model_info)\n",
    "model.save_weights('model.h5')"
   ]
  },
  {
   "cell_type": "code",
   "execution_count": null,
   "metadata": {},
   "outputs": [],
   "source": [
    "model.summary()"
   ]
  },
  {
   "cell_type": "code",
   "execution_count": null,
   "metadata": {},
   "outputs": [],
   "source": []
  }
 ],
 "metadata": {
  "kernelspec": {
   "display_name": "Python 3 (ipykernel)",
   "language": "python",
   "name": "python3"
  },
  "language_info": {
   "codemirror_mode": {
    "name": "ipython",
    "version": 3
   },
   "file_extension": ".py",
   "mimetype": "text/x-python",
   "name": "python",
   "nbconvert_exporter": "python",
   "pygments_lexer": "ipython3",
   "version": "3.9.7"
  }
 },
 "nbformat": 4,
 "nbformat_minor": 4
}
