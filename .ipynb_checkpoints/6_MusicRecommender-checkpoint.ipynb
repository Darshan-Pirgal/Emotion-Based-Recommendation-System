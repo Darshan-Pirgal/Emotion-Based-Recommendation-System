{
 "cells": [
  {
   "cell_type": "markdown",
   "id": "657b54d1",
   "metadata": {},
   "source": [
    "# Importing Packages"
   ]
  },
  {
   "cell_type": "code",
   "execution_count": 14,
   "id": "1168a078",
   "metadata": {},
   "outputs": [],
   "source": [
    "import cv2\n",
    "import pandas as pd\n",
    "import numpy as np\n",
    "from statistics import mode"
   ]
  },
  {
   "cell_type": "code",
   "execution_count": 15,
   "id": "73faa425",
   "metadata": {},
   "outputs": [],
   "source": [
    "from tensorflow.keras.models import Sequential\n",
    "from tensorflow.keras.layers import Dense, Dropout, Flatten\n",
    "from tensorflow.keras.layers import Conv2D\n",
    "from tensorflow.keras.optimizers import Adam\n",
    "from tensorflow.keras.layers import MaxPooling2D\n",
    "from tensorflow.keras.preprocessing.image import ImageDataGenerator\n",
    "import os\n",
    "os.environ['TF_CPP_MIN_LOG_LEVEL'] = '2'"
   ]
  },
  {
   "cell_type": "markdown",
   "id": "4381be0b",
   "metadata": {},
   "source": [
    "# Creating Dataframe"
   ]
  },
  {
   "cell_type": "code",
   "execution_count": 16,
   "id": "cf6e639d",
   "metadata": {},
   "outputs": [],
   "source": [
    "spotify_df = pd.read_csv('datasets/kaggleMusicMoodFinal.csv')"
   ]
  },
  {
   "cell_type": "code",
   "execution_count": 17,
   "id": "2dc69d42",
   "metadata": {},
   "outputs": [],
   "source": [
    "model = Sequential()\n",
    "\n",
    "model.add(Conv2D(32, kernel_size=(3, 3), activation='relu', input_shape=(48,48,1)))\n",
    "model.add(Conv2D(64, kernel_size=(3, 3), activation='relu'))\n",
    "model.add(MaxPooling2D(pool_size=(2, 2)))\n",
    "model.add(Dropout(0.25))\n",
    "\n",
    "model.add(Conv2D(128, kernel_size=(3, 3), activation='relu'))\n",
    "model.add(MaxPooling2D(pool_size=(2, 2)))\n",
    "model.add(Conv2D(128, kernel_size=(3, 3), activation='relu'))\n",
    "model.add(MaxPooling2D(pool_size=(2, 2)))\n",
    "model.add(Dropout(0.25))\n",
    "\n",
    "model.add(Flatten())\n",
    "model.add(Dense(1024, activation='relu'))\n",
    "model.add(Dropout(0.5))\n",
    "model.add(Dense(7, activation='softmax'))"
   ]
  },
  {
   "cell_type": "markdown",
   "id": "ad5b5252",
   "metadata": {},
   "source": [
    "# Function that detects emotion in real time"
   ]
  },
  {
   "cell_type": "code",
   "execution_count": 114,
   "id": "65e94f2b",
   "metadata": {},
   "outputs": [],
   "source": [
    "def EmotionDetection():\n",
    "    emotion_labels={0: \"Angry\", 1: \"Disgusted\", 2: \"Fearful\", 3: \"Happy\", 4: \"Neutral\", 5: \"Sad\", 6: \"Surprised\"}\n",
    "    \n",
    "    detection_model_path = 'haarcascade_frontalface_default.xml'\n",
    "    emotion_model_path = 'model.h5'\n",
    "    frame_window = 10\n",
    "    emotion_offsets = (20, 40)\n",
    "\n",
    "    facecasc = cv2.CascadeClassifier('haarcascade_frontalface_default.xml')\n",
    "    emotion_classifier = model.load_weights(emotion_model_path)\n",
    "\n",
    "    emotion_window = []\n",
    "\n",
    "    video_capture = cv2.VideoCapture(0)\n",
    "    flag=1\n",
    "    while True:\n",
    "        ret, frame = video_capture.read()\n",
    "        if not ret:\n",
    "            exit(0)\n",
    "        gray = cv2.cvtColor(frame, cv2.COLOR_BGR2GRAY)\n",
    "        faces = facecasc.detectMultiScale(gray,scaleFactor=1.3, minNeighbors=5)\n",
    "        for (x, y, w, h) in faces:\n",
    "            cv2.rectangle(frame, (x, y-50), (x+w, y+h+10), (255, 0, 0), 2)\n",
    "            roi_gray = gray[y:y + h, x:x + w]\n",
    "            cropped_img = np.expand_dims(np.expand_dims(cv2.resize(roi_gray, (48, 48)), -1), 0)\n",
    "            prediction = model.predict(cropped_img)\n",
    "            maxindex = int(np.argmax(prediction))\n",
    "            if flag:\n",
    "                print(\"Mood detected is: \",emotion_labels[maxindex])\n",
    "                print(\"Playlist for \",emotion_labels[maxindex],\" mood:\")\n",
    "                print(\"\\n\")\n",
    "                return(emotion_labels[maxindex])\n",
    "                flag=0\n",
    "            cv2.putText(frame, emotion_labels[maxindex], (x+20, y-60), cv2.FONT_HERSHEY_SIMPLEX, 1, (255, 255, 255), 2, cv2.LINE_AA)\n",
    "\n",
    "            cv2.imshow('Video', cv2.resize(frame,(900,600),interpolation = cv2.INTER_CUBIC))\n",
    "        if cv2.waitKey(1) & 0xFF == ord('q'):\n",
    "            break\n",
    "    video_capture.release()\n",
    "    cv2.destroyAllWindows()"
   ]
  },
  {
   "cell_type": "markdown",
   "id": "a4aa61c1",
   "metadata": {},
   "source": [
    "# Choosing dataset"
   ]
  },
  {
   "cell_type": "code",
   "execution_count": 115,
   "id": "94ecc39e",
   "metadata": {},
   "outputs": [],
   "source": [
    "def ChooseDataset(x):\n",
    "    if x == \"Disgust\":\n",
    "        return spotify_df[spotify_df['Mood'].isin(['Energetic', 'Happy', 'Calm'])]\n",
    "    if x == \"Angry\":\n",
    "        return spotify_df[spotify_df['Mood'].isin(['Energetic', 'Calm'])]\n",
    "    if x == \"Fear\":\n",
    "        return spotify_df[spotify_df['Mood'].isin(['Happy', 'Calm'])]\n",
    "    if x == \"Happy\":\n",
    "        return spotify_df[spotify_df['Mood'].isin(['Sad', 'Happy', 'Calm'])]\n",
    "    if x == \"Sad\":\n",
    "        return spotify_df[spotify_df['Mood'].isin(['Sad', 'Happy', 'Calm'])]\n",
    "    if x == \"Surprise\":\n",
    "        return spotify_df[spotify_df['Mood'].isin(['Energetic', 'Happy', 'Sad'])]\n",
    "    return spotify_df"
   ]
  },
  {
   "cell_type": "markdown",
   "id": "f472e27e",
   "metadata": {},
   "source": [
    "# Get Playlist"
   ]
  },
  {
   "cell_type": "code",
   "execution_count": 116,
   "id": "6592db52",
   "metadata": {},
   "outputs": [],
   "source": [
    "def GetPlaylist(list_df):\n",
    "    s1 = list_df.sort_values(by=['year'], ascending=False)\n",
    "    s2 = s1.nlargest(30,['popularity'])\n",
    "    s3 = s2[[\"name\", \"artists\"]]\n",
    "    return s3"
   ]
  },
  {
   "cell_type": "code",
   "execution_count": 117,
   "id": "008c1250",
   "metadata": {},
   "outputs": [],
   "source": [
    "def RecommendTop30(x):\n",
    "    list_df=ChooseDataset(x)\n",
    "    playlist=GetPlaylist(list_df)\n",
    "    print(playlist.to_markdown(index=False))"
   ]
  },
  {
   "cell_type": "code",
   "execution_count": 118,
   "id": "03e37193",
   "metadata": {},
   "outputs": [
    {
     "name": "stdout",
     "output_type": "stream",
     "text": [
      "Mood detected is:  Neutral\n",
      "Playlist for  Neutral  mood:\n",
      "\n",
      "\n",
      "| name                                 | artists                                                    |\n",
      "|:-------------------------------------|:-----------------------------------------------------------|\n",
      "| Dakiti                               | ['Bad Bunny', 'Jhay Cortez']                               |\n",
      "| Mood (feat. iann dior)               | ['24kGoldn', 'iann dior']                                  |\n",
      "| What You Know Bout Love              | ['Pop Smoke']                                              |\n",
      "| positions                            | ['Ariana Grande']                                          |\n",
      "| Blinding Lights                      | ['The Weeknd']                                             |\n",
      "| WAP (feat. Megan Thee Stallion)      | ['Cardi B', 'Megan Thee Stallion']                         |\n",
      "| you broke me first                   | ['Tate McRae']                                             |\n",
      "| Lonely (with benny blanco)           | ['Justin Bieber', 'benny blanco']                          |\n",
      "| Holy (feat. Chance The Rapper)       | ['Justin Bieber', 'Chance the Rapper']                     |\n",
      "| Head & Heart (feat. MNEK)            | ['Joel Corry', 'MNEK']                                     |\n",
      "| Relación - Remix                     | ['Sech', 'Daddy Yankee', 'J Balvin', 'ROSALÍA', 'Farruko'] |\n",
      "| Lemonade                             | ['Internet Money', 'Gunna', 'Don Toliver', 'NAV']          |\n",
      "| Watermelon Sugar                     | ['Harry Styles']                                           |\n",
      "| Laugh Now Cry Later (feat. Lil Durk) | ['Drake', 'Lil Durk']                                      |\n",
      "| Put Your Records On                  | ['Ritt Momney']                                            |\n",
      "| Therefore I Am                       | ['Billie Eilish']                                          |\n",
      "| UN DIA (ONE DAY) (Feat. Tainy)       | ['J Balvin', 'Tainy', 'Dua Lipa', 'Bad Bunny']             |\n",
      "| 34+35                                | ['Ariana Grande']                                          |\n",
      "| Se Te Nota (with Guaynaa)            | ['Lele Pons', 'Guaynaa']                                   |\n",
      "| Vida de Rico                         | ['Camilo']                                                 |\n",
      "| La Curiosidad                        | ['Jay Wheeler', 'DJ Nelson', 'Myke Towers']                |\n",
      "| Wonder                               | ['Shawn Mendes']                                           |\n",
      "| Take You Dancing                     | ['Jason Derulo']                                           |\n",
      "| La Nota                              | ['Manuel Turizo', 'Rauw Alejandro', 'Myke Towers']         |\n",
      "| La Tóxica                            | ['Farruko']                                                |\n",
      "| Breaking Me                          | ['Topic', 'A7S']                                           |\n",
      "| BICHOTA                              | ['KAROL G']                                                |\n",
      "| Jeans                                | ['Justin Quiles']                                          |\n",
      "| Midnight Sky                         | ['Miley Cyrus']                                            |\n",
      "| Parce (feat. Justin Quiles)          | ['Maluma', 'Lenny Tavárez', 'Justin Quiles']               |\n"
     ]
    }
   ],
   "source": [
    "RecommendTop30(EmotionDetection())"
   ]
  }
 ],
 "metadata": {
  "kernelspec": {
   "display_name": "Python 3 (ipykernel)",
   "language": "python",
   "name": "python3"
  },
  "language_info": {
   "codemirror_mode": {
    "name": "ipython",
    "version": 3
   },
   "file_extension": ".py",
   "mimetype": "text/x-python",
   "name": "python",
   "nbconvert_exporter": "python",
   "pygments_lexer": "ipython3",
   "version": "3.9.7"
  }
 },
 "nbformat": 4,
 "nbformat_minor": 5
}
